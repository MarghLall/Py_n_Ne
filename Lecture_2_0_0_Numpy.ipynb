{
 "cells": [
  {
   "cell_type": "markdown",
   "metadata": {},
   "source": [
    "# Lecture 2: Numpy"
   ]
  },
  {
   "cell_type": "markdown",
   "metadata": {},
   "source": [
    "The clever student should have recognized that all images of the previous notebooks are images from movies. Indeed, the data we are going to analyze is the so called stardom-network of the 500 most rated movies of 2018 according to IMDB.\n",
    "![IMDB](l2_imdb.png)  \n",
    "You can find the data in the 'data' folder of the repository."
   ]
  },
  {
   "cell_type": "markdown",
   "metadata": {},
   "source": [
    "But first, ..."
   ]
  },
  {
   "cell_type": "markdown",
   "metadata": {},
   "source": [
    "## Numpy, your new best friend"
   ]
  },
  {
   "cell_type": "markdown",
   "metadata": {},
   "source": [
    "[numpy](http://www.numpy.org/) is cool for a lot of reasons, but mostly because it is the python module for playing with big (or almost big) array and embedding non trivial mathematical functions."
   ]
  },
  {
   "cell_type": "code",
   "execution_count": 1,
   "metadata": {},
   "outputs": [],
   "source": [
    "import numpy as np"
   ]
  },
  {
   "cell_type": "code",
   "execution_count": 2,
   "metadata": {},
   "outputs": [],
   "source": [
    "cacca = np.array( [[1, 2, 3], [4,5,6]] )"
   ]
  },
  {
   "cell_type": "code",
   "execution_count": 3,
   "metadata": {},
   "outputs": [
    {
     "data": {
      "text/plain": [
       "array([[1, 2, 3],\n",
       "       [4, 5, 6]])"
      ]
     },
     "execution_count": 3,
     "metadata": {},
     "output_type": "execute_result"
    }
   ],
   "source": [
    "cacca"
   ]
  },
  {
   "cell_type": "markdown",
   "metadata": {},
   "source": [
    "### .size() -- elementi totali"
   ]
  },
  {
   "cell_type": "code",
   "execution_count": 4,
   "metadata": {
    "scrolled": true
   },
   "outputs": [
    {
     "name": "stdout",
     "output_type": "stream",
     "text": [
      "6\n"
     ]
    }
   ],
   "source": [
    "N = cacca.size\n",
    "print(N)"
   ]
  },
  {
   "cell_type": "markdown",
   "metadata": {},
   "source": [
    "### .shape() -- dimensione matrice: (#righe, #colonne)"
   ]
  },
  {
   "cell_type": "code",
   "execution_count": 5,
   "metadata": {},
   "outputs": [
    {
     "data": {
      "text/plain": [
       "(2L, 3L)"
      ]
     },
     "execution_count": 5,
     "metadata": {},
     "output_type": "execute_result"
    }
   ],
   "source": [
    "cacca.shape"
   ]
  },
  {
   "cell_type": "markdown",
   "metadata": {},
   "source": [
    "### Accessing elements / Operation on elements"
   ]
  },
  {
   "cell_type": "code",
   "execution_count": 6,
   "metadata": {},
   "outputs": [
    {
     "data": {
      "text/plain": [
       "array([1, 2, 3])"
      ]
     },
     "execution_count": 6,
     "metadata": {},
     "output_type": "execute_result"
    }
   ],
   "source": [
    "cacca[0]"
   ]
  },
  {
   "cell_type": "code",
   "execution_count": 7,
   "metadata": {},
   "outputs": [
    {
     "data": {
      "text/plain": [
       "2"
      ]
     },
     "execution_count": 7,
     "metadata": {},
     "output_type": "execute_result"
    }
   ],
   "source": [
    "cacca[0,1]"
   ]
  },
  {
   "cell_type": "code",
   "execution_count": 8,
   "metadata": {},
   "outputs": [
    {
     "data": {
      "text/plain": [
       "array([1, 4])"
      ]
     },
     "execution_count": 8,
     "metadata": {},
     "output_type": "execute_result"
    }
   ],
   "source": [
    "cacca[:,0] #tutti gli elementi della prima colonna [x, 0]"
   ]
  },
  {
   "cell_type": "code",
   "execution_count": 9,
   "metadata": {},
   "outputs": [
    {
     "data": {
      "text/plain": [
       "array([[ 2.,  4.,  6.],\n",
       "       [ 8., 10., 12.]])"
      ]
     },
     "execution_count": 9,
     "metadata": {},
     "output_type": "execute_result"
    }
   ],
   "source": [
    "cacca *2."
   ]
  },
  {
   "cell_type": "code",
   "execution_count": 10,
   "metadata": {},
   "outputs": [
    {
     "data": {
      "text/plain": [
       "array([[1, 0, 1],\n",
       "       [0, 1, 0]])"
      ]
     },
     "execution_count": 10,
     "metadata": {},
     "output_type": "execute_result"
    }
   ],
   "source": [
    "cacca %2"
   ]
  },
  {
   "cell_type": "markdown",
   "metadata": {},
   "source": [
    "### Mask -- operazione con sottointeso punto interrogativo: sono gli elementi di cacca divisibili per 2? "
   ]
  },
  {
   "cell_type": "code",
   "execution_count": 11,
   "metadata": {},
   "outputs": [
    {
     "data": {
      "text/plain": [
       "array([[False,  True, False],\n",
       "       [ True, False,  True]])"
      ]
     },
     "execution_count": 11,
     "metadata": {},
     "output_type": "execute_result"
    }
   ],
   "source": [
    "cacca %2 == 0"
   ]
  },
  {
   "cell_type": "code",
   "execution_count": 12,
   "metadata": {},
   "outputs": [
    {
     "data": {
      "text/plain": [
       "array([[ True, False,  True],\n",
       "       [ True,  True,  True]])"
      ]
     },
     "execution_count": 12,
     "metadata": {},
     "output_type": "execute_result"
    }
   ],
   "source": [
    "cacca != 2"
   ]
  },
  {
   "cell_type": "code",
   "execution_count": 13,
   "metadata": {},
   "outputs": [
    {
     "data": {
      "text/plain": [
       "array([2, 4, 6])"
      ]
     },
     "execution_count": 13,
     "metadata": {},
     "output_type": "execute_result"
    }
   ],
   "source": [
    "cacca[cacca %2==0] ### seleziono solo gli elementi per cui ho True!!!"
   ]
  },
  {
   "cell_type": "markdown",
   "metadata": {},
   "source": [
    "##### Data types and structured data types"
   ]
  },
  {
   "cell_type": "code",
   "execution_count": 14,
   "metadata": {},
   "outputs": [
    {
     "data": {
      "text/plain": [
       "array([[1., 2., 3.],\n",
       "       [4., 5., 6.]])"
      ]
     },
     "execution_count": 14,
     "metadata": {},
     "output_type": "execute_result"
    }
   ],
   "source": [
    "np.array([[1, 2, 3], [4,5,6]], dtype=float)"
   ]
  },
  {
   "cell_type": "code",
   "execution_count": 7,
   "metadata": {},
   "outputs": [
    {
     "data": {
      "text/plain": [
       "array([[1.0, 'cacca', 42],\n",
       "       [0, 'bad', 1.4]], dtype=object)"
      ]
     },
     "execution_count": 7,
     "metadata": {},
     "output_type": "execute_result"
    }
   ],
   "source": [
    "np.array([[1., 'cacca', 42], [0,'bad',1.4]], dtype=object) #è il modo corretto per definire un array misto"
   ]
  },
  {
   "cell_type": "code",
   "execution_count": 16,
   "metadata": {},
   "outputs": [
    {
     "ename": "ValueError",
     "evalue": "could not convert string to float: cacca",
     "output_type": "error",
     "traceback": [
      "\u001b[1;31m---------------------------------------------------------------------------\u001b[0m",
      "\u001b[1;31mValueError\u001b[0m                                Traceback (most recent call last)",
      "\u001b[1;32m<ipython-input-16-3b2924ff78d0>\u001b[0m in \u001b[0;36m<module>\u001b[1;34m()\u001b[0m\n\u001b[1;32m----> 1\u001b[1;33m \u001b[0mnp\u001b[0m\u001b[1;33m.\u001b[0m\u001b[0marray\u001b[0m\u001b[1;33m(\u001b[0m\u001b[1;33m[\u001b[0m\u001b[1;33m[\u001b[0m\u001b[1;36m1.\u001b[0m\u001b[1;33m,\u001b[0m \u001b[1;34m'cacca'\u001b[0m\u001b[1;33m,\u001b[0m \u001b[1;36m42\u001b[0m\u001b[1;33m]\u001b[0m\u001b[1;33m,\u001b[0m \u001b[1;33m[\u001b[0m\u001b[1;36m0\u001b[0m\u001b[1;33m,\u001b[0m\u001b[1;34m'bad'\u001b[0m\u001b[1;33m,\u001b[0m\u001b[1;36m1.4\u001b[0m\u001b[1;33m]\u001b[0m\u001b[1;33m]\u001b[0m\u001b[1;33m,\u001b[0m \u001b[0mdtype\u001b[0m\u001b[1;33m=\u001b[0m\u001b[0mfloat\u001b[0m\u001b[1;33m)\u001b[0m\u001b[1;33m\u001b[0m\u001b[0m\n\u001b[0m",
      "\u001b[1;31mValueError\u001b[0m: could not convert string to float: cacca"
     ]
    }
   ],
   "source": [
    "np.array([[1., 'cacca', 42], [0,'bad',1.4]], dtype=float)"
   ]
  },
  {
   "cell_type": "code",
   "execution_count": 6,
   "metadata": {},
   "outputs": [
    {
     "data": {
      "text/plain": [
       "array([['1', '2', '3'],\n",
       "       ['1', '2', '3']], dtype='|S1')"
      ]
     },
     "execution_count": 6,
     "metadata": {},
     "output_type": "execute_result"
    }
   ],
   "source": [
    "np.array([[1,2,3], [1,2,3]], dtype = str) "
   ]
  },
  {
   "cell_type": "markdown",
   "metadata": {},
   "source": [
    "###### Structured data type"
   ]
  },
  {
   "cell_type": "code",
   "execution_count": null,
   "metadata": {},
   "outputs": [],
   "source": [
    "tmnt_list=['Donatello', 'Raffaello', 'Michelangelo', 'Leonardo']\n",
    "tmnt_ages=[14, 15, 13, 16]"
   ]
  },
  {
   "cell_type": "code",
   "execution_count": null,
   "metadata": {},
   "outputs": [],
   "source": [
    "tmnt_np = np.array( zip(tmnt_ages,tmnt_list), dtype=[('age', 'i8'), ('name','S20')])\n",
    "tmnt_np2 = np.array( zip(tmnt_ages,tmnt_list), dtype=[('age', 'i8'), ('name','S1')])"
   ]
  },
  {
   "cell_type": "code",
   "execution_count": null,
   "metadata": {},
   "outputs": [],
   "source": [
    "tmnt_np"
   ]
  },
  {
   "cell_type": "code",
   "execution_count": null,
   "metadata": {},
   "outputs": [],
   "source": [
    "tmnt_np2"
   ]
  },
  {
   "cell_type": "code",
   "execution_count": null,
   "metadata": {},
   "outputs": [],
   "source": [
    "tmnt_np['name']"
   ]
  },
  {
   "cell_type": "code",
   "execution_count": null,
   "metadata": {},
   "outputs": [],
   "source": [
    "tmnt_np[0]"
   ]
  },
  {
   "cell_type": "markdown",
   "metadata": {},
   "source": [
    "Searching on array with structured data type"
   ]
  },
  {
   "cell_type": "code",
   "execution_count": null,
   "metadata": {},
   "outputs": [],
   "source": [
    "tmnt_np[ tmnt_np['name']=='Leonardo']['age'] #sto usando una mask!\n",
    "\n",
    "True_chi_cerco = tmnt_np['name']=='Leonardo'\n",
    "tmnt_np[True_chi_cerco]['age'], tmnt_np2[True_chi_cerco]['age']"
   ]
  },
  {
   "cell_type": "markdown",
   "metadata": {},
   "source": [
    "## Transpose array"
   ]
  },
  {
   "cell_type": "code",
   "execution_count": null,
   "metadata": {},
   "outputs": [],
   "source": [
    "cacca.T"
   ]
  },
  {
   "cell_type": "markdown",
   "metadata": {},
   "source": [
    "### dot product"
   ]
  },
  {
   "cell_type": "code",
   "execution_count": 8,
   "metadata": {},
   "outputs": [
    {
     "data": {
      "text/plain": [
       "array([[14, 32],\n",
       "       [32, 77]])"
      ]
     },
     "execution_count": 8,
     "metadata": {},
     "output_type": "execute_result"
    }
   ],
   "source": [
    "np.dot(cacca, cacca.T)"
   ]
  },
  {
   "cell_type": "markdown",
   "metadata": {},
   "source": [
    "## Reading/writing from/to file"
   ]
  },
  {
   "cell_type": "code",
   "execution_count": 9,
   "metadata": {},
   "outputs": [
    {
     "ename": "IOError",
     "evalue": "something.txt not found.",
     "output_type": "error",
     "traceback": [
      "\u001b[1;31m---------------------------------------------------------------------------\u001b[0m",
      "\u001b[1;31mIOError\u001b[0m                                   Traceback (most recent call last)",
      "\u001b[1;32m<ipython-input-9-026250f73648>\u001b[0m in \u001b[0;36m<module>\u001b[1;34m()\u001b[0m\n\u001b[1;32m----> 1\u001b[1;33m \u001b[0madjacency_matrix\u001b[0m\u001b[1;33m=\u001b[0m\u001b[0mnp\u001b[0m\u001b[1;33m.\u001b[0m\u001b[0mgenfromtxt\u001b[0m\u001b[1;33m(\u001b[0m\u001b[1;34m'something.txt'\u001b[0m\u001b[1;33m,\u001b[0m \u001b[0mdelimiter\u001b[0m\u001b[1;33m=\u001b[0m\u001b[1;34m','\u001b[0m\u001b[1;33m,\u001b[0m \u001b[0mdtype\u001b[0m\u001b[1;33m=\u001b[0m\u001b[1;34m'i8'\u001b[0m\u001b[1;33m)\u001b[0m\u001b[1;33m\u001b[0m\u001b[0m\n\u001b[0m",
      "\u001b[1;32mc:\\users\\margherita\\anaconda3\\envs\\pynne\\lib\\site-packages\\numpy\\lib\\npyio.pyc\u001b[0m in \u001b[0;36mgenfromtxt\u001b[1;34m(fname, dtype, comments, delimiter, skip_header, skip_footer, converters, missing_values, filling_values, usecols, names, excludelist, deletechars, replace_space, autostrip, case_sensitive, defaultfmt, unpack, usemask, loose, invalid_raise, max_rows, encoding)\u001b[0m\n\u001b[0;32m   1735\u001b[0m             \u001b[0mfname\u001b[0m \u001b[1;33m=\u001b[0m \u001b[0mos_fspath\u001b[0m\u001b[1;33m(\u001b[0m\u001b[0mfname\u001b[0m\u001b[1;33m)\u001b[0m\u001b[1;33m\u001b[0m\u001b[0m\n\u001b[0;32m   1736\u001b[0m         \u001b[1;32mif\u001b[0m \u001b[0misinstance\u001b[0m\u001b[1;33m(\u001b[0m\u001b[0mfname\u001b[0m\u001b[1;33m,\u001b[0m \u001b[0mbasestring\u001b[0m\u001b[1;33m)\u001b[0m\u001b[1;33m:\u001b[0m\u001b[1;33m\u001b[0m\u001b[0m\n\u001b[1;32m-> 1737\u001b[1;33m             \u001b[0mfhd\u001b[0m \u001b[1;33m=\u001b[0m \u001b[0miter\u001b[0m\u001b[1;33m(\u001b[0m\u001b[0mnp\u001b[0m\u001b[1;33m.\u001b[0m\u001b[0mlib\u001b[0m\u001b[1;33m.\u001b[0m\u001b[0m_datasource\u001b[0m\u001b[1;33m.\u001b[0m\u001b[0mopen\u001b[0m\u001b[1;33m(\u001b[0m\u001b[0mfname\u001b[0m\u001b[1;33m,\u001b[0m \u001b[1;34m'rt'\u001b[0m\u001b[1;33m,\u001b[0m \u001b[0mencoding\u001b[0m\u001b[1;33m=\u001b[0m\u001b[0mencoding\u001b[0m\u001b[1;33m)\u001b[0m\u001b[1;33m)\u001b[0m\u001b[1;33m\u001b[0m\u001b[0m\n\u001b[0m\u001b[0;32m   1738\u001b[0m             \u001b[0mown_fhd\u001b[0m \u001b[1;33m=\u001b[0m \u001b[0mTrue\u001b[0m\u001b[1;33m\u001b[0m\u001b[0m\n\u001b[0;32m   1739\u001b[0m         \u001b[1;32melse\u001b[0m\u001b[1;33m:\u001b[0m\u001b[1;33m\u001b[0m\u001b[0m\n",
      "\u001b[1;32mc:\\users\\margherita\\anaconda3\\envs\\pynne\\lib\\site-packages\\numpy\\lib\\_datasource.pyc\u001b[0m in \u001b[0;36mopen\u001b[1;34m(path, mode, destpath, encoding, newline)\u001b[0m\n\u001b[0;32m    264\u001b[0m \u001b[1;33m\u001b[0m\u001b[0m\n\u001b[0;32m    265\u001b[0m     \u001b[0mds\u001b[0m \u001b[1;33m=\u001b[0m \u001b[0mDataSource\u001b[0m\u001b[1;33m(\u001b[0m\u001b[0mdestpath\u001b[0m\u001b[1;33m)\u001b[0m\u001b[1;33m\u001b[0m\u001b[0m\n\u001b[1;32m--> 266\u001b[1;33m     \u001b[1;32mreturn\u001b[0m \u001b[0mds\u001b[0m\u001b[1;33m.\u001b[0m\u001b[0mopen\u001b[0m\u001b[1;33m(\u001b[0m\u001b[0mpath\u001b[0m\u001b[1;33m,\u001b[0m \u001b[0mmode\u001b[0m\u001b[1;33m,\u001b[0m \u001b[0mencoding\u001b[0m\u001b[1;33m=\u001b[0m\u001b[0mencoding\u001b[0m\u001b[1;33m,\u001b[0m \u001b[0mnewline\u001b[0m\u001b[1;33m=\u001b[0m\u001b[0mnewline\u001b[0m\u001b[1;33m)\u001b[0m\u001b[1;33m\u001b[0m\u001b[0m\n\u001b[0m\u001b[0;32m    267\u001b[0m \u001b[1;33m\u001b[0m\u001b[0m\n\u001b[0;32m    268\u001b[0m \u001b[1;33m\u001b[0m\u001b[0m\n",
      "\u001b[1;32mc:\\users\\margherita\\anaconda3\\envs\\pynne\\lib\\site-packages\\numpy\\lib\\_datasource.pyc\u001b[0m in \u001b[0;36mopen\u001b[1;34m(self, path, mode, encoding, newline)\u001b[0m\n\u001b[0;32m    622\u001b[0m                                       encoding=encoding, newline=newline)\n\u001b[0;32m    623\u001b[0m         \u001b[1;32melse\u001b[0m\u001b[1;33m:\u001b[0m\u001b[1;33m\u001b[0m\u001b[0m\n\u001b[1;32m--> 624\u001b[1;33m             \u001b[1;32mraise\u001b[0m \u001b[0mIOError\u001b[0m\u001b[1;33m(\u001b[0m\u001b[1;34m\"%s not found.\"\u001b[0m \u001b[1;33m%\u001b[0m \u001b[0mpath\u001b[0m\u001b[1;33m)\u001b[0m\u001b[1;33m\u001b[0m\u001b[0m\n\u001b[0m\u001b[0;32m    625\u001b[0m \u001b[1;33m\u001b[0m\u001b[0m\n\u001b[0;32m    626\u001b[0m \u001b[1;33m\u001b[0m\u001b[0m\n",
      "\u001b[1;31mIOError\u001b[0m: something.txt not found."
     ]
    }
   ],
   "source": [
    "adjacency_matrix=np.genfromtxt('something.txt', delimiter=',', dtype='i8')"
   ]
  },
  {
   "cell_type": "code",
   "execution_count": null,
   "metadata": {},
   "outputs": [],
   "source": [
    "np.savetxt('something_new.txt',adjacency_matrix, fmt='%u', delimiter=',')"
   ]
  },
  {
   "cell_type": "code",
   "execution_count": null,
   "metadata": {},
   "outputs": [],
   "source": [
    "np.genfromtxt('something_new.txt', delimiter=',', dtype='i8')"
   ]
  },
  {
   "cell_type": "markdown",
   "metadata": {},
   "source": [
    "##### Interesting stuff and functions"
   ]
  },
  {
   "cell_type": "markdown",
   "metadata": {},
   "source": [
    "### np.zeros(N, dtype='type') - creare un array di zero di dim N e type 'type'"
   ]
  },
  {
   "cell_type": "code",
   "execution_count": 10,
   "metadata": {},
   "outputs": [
    {
     "data": {
      "text/plain": [
       "array([0, 0, 0, 0, 0, 0, 0, 0, 0, 0, 0, 0, 0, 0, 0, 0, 0, 0, 0, 0, 0, 0,\n",
       "       0, 0, 0, 0, 0, 0, 0, 0, 0, 0, 0, 0, 0, 0, 0, 0, 0, 0, 0, 0])"
      ]
     },
     "execution_count": 10,
     "metadata": {},
     "output_type": "execute_result"
    }
   ],
   "source": [
    "np.zeros(42, dtype='int')"
   ]
  },
  {
   "cell_type": "code",
   "execution_count": 12,
   "metadata": {},
   "outputs": [
    {
     "data": {
      "text/plain": [
       "array(['', '', '', '', '', '', '', '', '', '', '', '', '', '', '', '', '',\n",
       "       '', '', '', '', '', '', '', '', '', '', '', '', '', '', '', '', '',\n",
       "       '', '', '', '', '', '', '', ''], dtype='|S1')"
      ]
     },
     "execution_count": 12,
     "metadata": {},
     "output_type": "execute_result"
    }
   ],
   "source": [
    "np.zeros(42, dtype=str)"
   ]
  },
  {
   "cell_type": "markdown",
   "metadata": {},
   "source": [
    "### np.ones(N, dtype='type') - indovina"
   ]
  },
  {
   "cell_type": "code",
   "execution_count": null,
   "metadata": {},
   "outputs": [],
   "source": [
    "np.ones(42, dtype='int')"
   ]
  },
  {
   "cell_type": "code",
   "execution_count": null,
   "metadata": {},
   "outputs": [],
   "source": [
    "np.ones(42, dtype=str)"
   ]
  },
  {
   "cell_type": "markdown",
   "metadata": {},
   "source": [
    "### np.arange(N) - creare un array che conta fino a N"
   ]
  },
  {
   "cell_type": "code",
   "execution_count": null,
   "metadata": {},
   "outputs": [],
   "source": [
    "np.arange(42)"
   ]
  },
  {
   "cell_type": "code",
   "execution_count": 13,
   "metadata": {},
   "outputs": [
    {
     "data": {
      "text/plain": [
       "array([ 4,  5,  6,  7,  8,  9, 10, 11, 12, 13, 14, 15, 16, 17, 18, 19, 20,\n",
       "       21, 22, 23, 24, 25, 26, 27, 28, 29, 30, 31, 32, 33, 34, 35, 36, 37,\n",
       "       38, 39, 40, 41])"
      ]
     },
     "execution_count": 13,
     "metadata": {},
     "output_type": "execute_result"
    }
   ],
   "source": [
    "np.arange(4,42)"
   ]
  },
  {
   "cell_type": "markdown",
   "metadata": {},
   "source": [
    "### np.unique(cacca) - restituisce un array con gli elementi di cacca ripetuti solo una volta "
   ]
  },
  {
   "cell_type": "code",
   "execution_count": null,
   "metadata": {},
   "outputs": [],
   "source": [
    "cacca=np.array([1,2,4,1,2,4,12,42])"
   ]
  },
  {
   "cell_type": "code",
   "execution_count": 15,
   "metadata": {},
   "outputs": [
    {
     "data": {
      "text/plain": [
       "array([1, 2, 3, 4, 5, 6])"
      ]
     },
     "execution_count": 15,
     "metadata": {},
     "output_type": "execute_result"
    }
   ],
   "source": [
    "np.unique(cacca)"
   ]
  },
  {
   "cell_type": "code",
   "execution_count": 16,
   "metadata": {},
   "outputs": [
    {
     "data": {
      "text/plain": [
       "(array([1, 2, 3, 4, 5, 6]), array([1, 1, 1, 1, 1, 1], dtype=int64))"
      ]
     },
     "execution_count": 16,
     "metadata": {},
     "output_type": "execute_result"
    }
   ],
   "source": [
    "np.unique(cacca, return_counts=True)"
   ]
  },
  {
   "cell_type": "markdown",
   "metadata": {},
   "source": [
    "### np.sum()"
   ]
  },
  {
   "cell_type": "code",
   "execution_count": 21,
   "metadata": {},
   "outputs": [
    {
     "data": {
      "text/plain": [
       "array([[0, 1, 0, 1],\n",
       "       [0, 0, 1, 1],\n",
       "       [1, 1, 0, 1],\n",
       "       [0, 0, 1, 0]])"
      ]
     },
     "execution_count": 21,
     "metadata": {},
     "output_type": "execute_result"
    }
   ],
   "source": [
    "adjacency_matrix = np.array([[0, 1, 0, 1], [0, 0, 1, 1], [1, 1, 0, 1],[0, 0, 1, 0]])\n",
    "adjacency_matrix"
   ]
  },
  {
   "cell_type": "code",
   "execution_count": 22,
   "metadata": {},
   "outputs": [
    {
     "data": {
      "text/plain": [
       "8"
      ]
     },
     "execution_count": 22,
     "metadata": {},
     "output_type": "execute_result"
    }
   ],
   "source": [
    "np.sum(adjacency_matrix) #somma su tutti gli elementi "
   ]
  },
  {
   "cell_type": "code",
   "execution_count": 23,
   "metadata": {},
   "outputs": [
    {
     "data": {
      "text/plain": [
       "array([1, 2, 2, 3])"
      ]
     },
     "execution_count": 23,
     "metadata": {},
     "output_type": "execute_result"
    }
   ],
   "source": [
    "np.sum(adjacency_matrix, axis=0) #somma su tutti gli elementi con colonna=0 "
   ]
  },
  {
   "cell_type": "code",
   "execution_count": 24,
   "metadata": {},
   "outputs": [
    {
     "data": {
      "text/plain": [
       "array([2, 2, 3, 1])"
      ]
     },
     "execution_count": 24,
     "metadata": {},
     "output_type": "execute_result"
    }
   ],
   "source": [
    "np.sum(adjacency_matrix, axis=1)"
   ]
  },
  {
   "cell_type": "markdown",
   "metadata": {},
   "source": [
    "### np.where()"
   ]
  },
  {
   "cell_type": "code",
   "execution_count": 17,
   "metadata": {},
   "outputs": [
    {
     "data": {
      "text/plain": [
       "(array([0], dtype=int64), array([0], dtype=int64))"
      ]
     },
     "execution_count": 17,
     "metadata": {},
     "output_type": "execute_result"
    }
   ],
   "source": [
    "np.where(cacca==1)"
   ]
  },
  {
   "cell_type": "code",
   "execution_count": 18,
   "metadata": {},
   "outputs": [
    {
     "ename": "NameError",
     "evalue": "name 'adjacency_matrix' is not defined",
     "output_type": "error",
     "traceback": [
      "\u001b[1;31m---------------------------------------------------------------------------\u001b[0m",
      "\u001b[1;31mNameError\u001b[0m                                 Traceback (most recent call last)",
      "\u001b[1;32m<ipython-input-18-5b4d30856d08>\u001b[0m in \u001b[0;36m<module>\u001b[1;34m()\u001b[0m\n\u001b[1;32m----> 1\u001b[1;33m \u001b[0mnp\u001b[0m\u001b[1;33m.\u001b[0m\u001b[0mwhere\u001b[0m\u001b[1;33m(\u001b[0m\u001b[0madjacency_matrix\u001b[0m\u001b[1;33m==\u001b[0m\u001b[1;36m1\u001b[0m\u001b[1;33m)\u001b[0m\u001b[1;33m\u001b[0m\u001b[0m\n\u001b[0m",
      "\u001b[1;31mNameError\u001b[0m: name 'adjacency_matrix' is not defined"
     ]
    }
   ],
   "source": [
    "np.where(adjacency_matrix==1)"
   ]
  },
  {
   "cell_type": "markdown",
   "metadata": {},
   "source": [
    "## Exercise:\n",
    "1. **load the file ./data/imdb_2018_films_actors.txt** It is an edge list (_what is an edge list?_) of a bipartite network (_what is a bipartite network?_) in which on the first column you have films and on the second the actors;\n",
    "2. **calculate the degree sequence** for both layers (_what is a layer?_)\n",
    "3. **build the biadjacency matrix** (_what is a biadjacency matrix?_)\n",
    "4. **calculate the near neighbours degree** (_what is nn?_)"
   ]
  },
  {
   "cell_type": "markdown",
   "metadata": {},
   "source": [
    "#### 1. Load the file"
   ]
  },
  {
   "cell_type": "code",
   "execution_count": 77,
   "metadata": {},
   "outputs": [
    {
     "data": {
      "text/plain": [
       "array([(u'Avengers: Infinity War', u'Chris Hemsworth'),\n",
       "       (u'Avengers: Infinity War', u'Chris Evans'),\n",
       "       (u'Avengers: Infinity War', u'Don Cheadle'), ...,\n",
       "       (u'Colette', u'Izzy Bayley-King'), (u'Colette', u'Karl Farrer'),\n",
       "       (u'Colette', u'Masayoshi Haneda')],\n",
       "      dtype=[('film', '<U50'), ('actors', '<U50')])"
      ]
     },
     "execution_count": 77,
     "metadata": {},
     "output_type": "execute_result"
    }
   ],
   "source": [
    "#ad_mat = np.genfromtxt('./data/imdb_2018_films_actors.txt', delimiter='\t', dtype='|S100')\n",
    "\n",
    "#with open('./data/imdb_2018_films_actors.txt', 'r') as f_in:\n",
    "#    text = f_in.read()\n",
    "\n",
    "#lines = text.splitlines()\n",
    "#movie_to_actor = {}\n",
    "#for line in lines:\n",
    "#    movie, actor = line.split('\t')\n",
    " #   if movie in movie_to_actor:\n",
    "  #      movie_to_actor[movie].append(actor)\n",
    "   # else:\n",
    "    #    movie_to_actor[movie]=[actor]\n",
    "        \n",
    "#for key in movie_to_actor:\n",
    " #   print(key, movie_to_actor[key])\n",
    "    \n",
    "adjacency_matrix2=np.genfromtxt('./data/imdb_2018_films_actors.txt', encoding = 'UTf-8', delimiter='\\t',  \n",
    "                                dtype=[('film', 'U50'),('actors', 'U50')] )\n",
    "                              #  dtype=[('film', 'UTF-8'),('actors', 'UTF-8')] )\n",
    "adjacency_matrix2"
   ]
  },
  {
   "cell_type": "markdown",
   "metadata": {},
   "source": [
    "#### 2. The degree sequence"
   ]
  },
  {
   "cell_type": "code",
   "execution_count": 78,
   "metadata": {},
   "outputs": [
    {
     "data": {
      "text/plain": [
       "array([u'12 Strong', u'22 July', u'7 Days in Entebbe',\n",
       "       u'A Futile and Stupid Gesture', u'A Quiet Place',\n",
       "       u'A Simple Favor', u'A Star Is Born', u'A Wrinkle in Time',\n",
       "       u'Active Measures', u'Acts of Violence', u'Adrift',\n",
       "       u'Alex Strangelove', u'Alpha', u'American Animals',\n",
       "       u'Annihilation', u'Anon', u'Ant-Man and the Wasp', u'Apostle',\n",
       "       u'Avengers: Infinity War', u'Bad Samaritan',\n",
       "       u'Bad Times at the El Royale', u'Beautiful Boy', u'Beirut',\n",
       "       u'Billionaire Boys Club', u'Bird Box', u'BlacKkKlansman',\n",
       "       u'Black Panther', u'Blindspotting', u'Blockers',\n",
       "       u'Bohemian Rhapsody', u'Book Club', u'Braven', u'Breaking In',\n",
       "       u'Bumblebee', u'Burning', u'Calibre', u'Cam', u'Christopher Robin',\n",
       "       u'Climax', u'Cold War', u'Colette', u'Corredor Assombrado',\n",
       "       u'Crazy Rich Asians', u'Creed II', u'Deadpool 2', u'Death Wish',\n",
       "       u'Death of a Nation', u'Den of Thieves', u'Destination Wedding',\n",
       "       u'Dogman', u\"Don't Worry, He Won't Get Far on Foot\", u\"Dumplin'\",\n",
       "       u'Early Man', u'Eighth Grade', u'Every Day', u'Everybody Knows',\n",
       "       u'Extinction', u'Fahrenheit 11/9',\n",
       "       u'Fantastic Beasts: The Crimes of Grindelwald',\n",
       "       u'Father of the Year', u'Fifty Shades Freed', u'First Man',\n",
       "       u'Forever My Girl', u'Game Night', u'Game Over, Man!',\n",
       "       u'Goosebumps 2: Haunted Halloween', u'Gotti', u'Green Book',\n",
       "       u'Gringo', u'Halloween', u'Hereditary', u'Hold the Dark',\n",
       "       u'Hotel Artemis', u'Hotel Transylvania 3: Summer Vacation',\n",
       "       u'How It Ends', u'Hunter Killer', u'I Can Only Imagine',\n",
       "       u'I Feel Pretty', u'Ibiza', u'In Darkness',\n",
       "       u'Incident in a Ghostland', u'Incredibles 2',\n",
       "       u'Insidious: The Last Key', u'Instant Family', u'Isle of Dogs',\n",
       "       u'Johnny English Strikes Again', u'Juliet, Naked',\n",
       "       u'Jurassic World: Fallen Kingdom', u'Kin', u'Leave No Trace',\n",
       "       u'Life of the Party', u'Like Father', u'Love, Simon',\n",
       "       u'Mamma Mia! Here We Go Again', u'Mandy', u'Mary Poppins Returns',\n",
       "       u'Maze Runner: The Death Cure', u'Mid90s', u'Midnight Sun',\n",
       "       u'Mile 22', u'Mission: Impossible - Fallout', u'Mortal Engines',\n",
       "       u'Mowgli: Legend of the Jungle', u'Mute', u'Night School',\n",
       "       u'Occupation', u\"Ocean's Eight\", u'Operation Finale',\n",
       "       u'Outlaw King', u'Overboard', u'Overlord',\n",
       "       u'Pacific Rim: Uprising', u'Padmaavat', u'Peppermint',\n",
       "       u'Peter Rabbit', u'Private Life', u'Proud Mary',\n",
       "       u'Ralph Breaks the Internet', u'Rampage', u'Ready Player One',\n",
       "       u'Red Sparrow', u'Robin Hood', u'Roma', u'Searching', u'Set It Up',\n",
       "       u'Sherlock Gnomes', u'Shoplifters', u'Siberia',\n",
       "       u'Sicario: Day of the Soldado', u'Sierra Burgess Is a Loser',\n",
       "       u'Skyscraper', u'Slender Man', u'Smallfoot',\n",
       "       u'Solo: A Star Wars Story', u'Sorry to Bother You',\n",
       "       u'Spider-Man: Into the Spider-Verse', u'Spinning Man',\n",
       "       u'Summer of 84', u'Super Troopers 2', u'Suspiria', u'Tag', u'Tau',\n",
       "       u'Teen Titans Go! To the Movies', u'Terminal',\n",
       "       u'The 15:17 to Paris', u'The Ballad of Buster Scruggs',\n",
       "       u'The Christmas Chronicles', u'The Cloverfield Paradox',\n",
       "       u'The Commuter', u'The Darkest Minds', u'The Equalizer 2',\n",
       "       u'The Favourite', u'The First Purge',\n",
       "       u\"The Girl in the Spider's Web\", u'The Grinch',\n",
       "       u'The Guernsey Literary and Potato Peel Pie Society',\n",
       "       u'The Guilty', u'The Happytime Murders', u'The Hate U Give',\n",
       "       u'The House That Jack Built',\n",
       "       u'The House with a Clock in Its Walls', u'The Hurricane Heist',\n",
       "       u'The Meg', u'The Miseducation of Cameron Post', u'The Mule',\n",
       "       u'The Night Comes for Us', u'The Nun',\n",
       "       u'The Nutcracker and the Four Realms', u'The Old Man & the Gun',\n",
       "       u'The Outsider', u'The Predator', u'The Sisters Brothers',\n",
       "       u'The Spy Who Dumped Me', u'The Strangers: Prey at Night',\n",
       "       u'The Tale', u'The Titan', u'The Week Of', u'The Wild Pear Tree',\n",
       "       u'Three Identical Strangers', u\"To All the Boys I've Loved Before\",\n",
       "       u'Tomb Raider', u'Traffik', u'Truth or Dare', u'Tully',\n",
       "       u'Uncle Drew', u'Under the Silver Lake', u'Unfriended: Dark Web',\n",
       "       u'Unsane', u'Ut\\xf8ya: July 22', u'Venom', u'Vice',\n",
       "       u'When We First Met', u'White Boy Rick', u'Widows', u'Wildling',\n",
       "       u'Winchester', u\"Won't You Be My Neighbor?\",\n",
       "       u'\\u0410\\u043a\\u0432\\u0430\\u043c\\u0435\\u043d',\n",
       "       u'\\u0410\\u043f\\u0433\\u0440\\u0435\\u0439\\u0434'], dtype='<U50')"
      ]
     },
     "execution_count": 78,
     "metadata": {},
     "output_type": "execute_result"
    }
   ],
   "source": [
    "#np.unique(adjacency_matrix2, return_counts=True)[0]\n",
    "\n",
    "films, k_films = np.unique(adjacency_matrix2['film'], return_counts=True)\n",
    "actors, k_actors = np.unique(adjacency_matrix2['actors'], return_counts=True)\n",
    "films\n"
   ]
  },
  {
   "cell_type": "markdown",
   "metadata": {},
   "source": [
    "#### 3. The biadjacency matrix"
   ]
  },
  {
   "cell_type": "code",
   "execution_count": 79,
   "metadata": {},
   "outputs": [
    {
     "data": {
      "text/plain": [
       "array([[0, 0, 0, ..., 0, 0, 0],\n",
       "       [0, 0, 0, ..., 0, 0, 0],\n",
       "       [0, 0, 0, ..., 0, 0, 0],\n",
       "       ...,\n",
       "       [0, 0, 0, ..., 0, 0, 0],\n",
       "       [0, 0, 0, ..., 0, 0, 0],\n",
       "       [0, 0, 0, ..., 0, 0, 0]])"
      ]
     },
     "execution_count": 79,
     "metadata": {},
     "output_type": "execute_result"
    }
   ],
   "source": [
    "adj_films = np.zeros((len(films), len(actors)), dtype=int) \n",
    "adj_films"
   ]
  },
  {
   "cell_type": "code",
   "execution_count": 80,
   "metadata": {},
   "outputs": [
    {
     "data": {
      "text/plain": [
       "'\"\\nfor element in range(len(adjacency_matrix2)):\\n    print(adjacency_matrix2[element])\\n    if adjacency_matrix2[element][0] not in dictionary:\\n        dictionary[adjacency_matrix2[element][0]] = adjacency_matrix2[element][1]\\n    else:      \\n        dictionary[adjacency_matrix2[element][0]].append(adjacency_matrix2[element][1])\\n'"
      ]
     },
     "execution_count": 80,
     "metadata": {},
     "output_type": "execute_result"
    }
   ],
   "source": [
    "\"\"\"\"\n",
    "for element in range(len(adjacency_matrix2)):\n",
    "    print(adjacency_matrix2[element])\n",
    "    if adjacency_matrix2[element][0] not in dictionary:\n",
    "        dictionary[adjacency_matrix2[element][0]] = adjacency_matrix2[element][1]\n",
    "    else:      \n",
    "        dictionary[adjacency_matrix2[element][0]].append(adjacency_matrix2[element][1])\n",
    "\"\"\"\"\""
   ]
  },
  {
   "cell_type": "code",
   "execution_count": 81,
   "metadata": {},
   "outputs": [],
   "source": [
    "for i in adjacency_matrix2:\n",
    "    f_pos = np.where(films==i['film'])[0]\n",
    "    a_pos = np.where(actors==i['actors'])[0]\n",
    "    adj_films[f_pos, a_pos] = 1"
   ]
  },
  {
   "cell_type": "code",
   "execution_count": 82,
   "metadata": {},
   "outputs": [
    {
     "data": {
      "text/plain": [
       "(199L, 11128L)"
      ]
     },
     "execution_count": 82,
     "metadata": {},
     "output_type": "execute_result"
    }
   ],
   "source": [
    "adj_films.shape\n",
    "\n",
    "    "
   ]
  },
  {
   "cell_type": "code",
   "execution_count": 85,
   "metadata": {},
   "outputs": [
    {
     "data": {
      "text/plain": [
       "(array([u'12 Strong', u'22 July', u'7 Days in Entebbe',\n",
       "        u'A Futile and Stupid Gesture', u'A Quiet Place',\n",
       "        u'A Simple Favor', u'A Star Is Born', u'A Wrinkle in Time',\n",
       "        u'Active Measures', u'Acts of Violence', u'Adrift',\n",
       "        u'Alex Strangelove', u'Alpha', u'American Animals',\n",
       "        u'Annihilation', u'Anon', u'Ant-Man and the Wasp', u'Apostle',\n",
       "        u'Avengers: Infinity War', u'Bad Samaritan',\n",
       "        u'Bad Times at the El Royale', u'Beautiful Boy', u'Beirut',\n",
       "        u'Billionaire Boys Club', u'Bird Box', u'BlacKkKlansman',\n",
       "        u'Black Panther', u'Blindspotting', u'Blockers',\n",
       "        u'Bohemian Rhapsody', u'Book Club', u'Braven', u'Breaking In',\n",
       "        u'Bumblebee', u'Burning', u'Calibre', u'Cam', u'Christopher Robin',\n",
       "        u'Climax', u'Cold War', u'Colette', u'Corredor Assombrado',\n",
       "        u'Crazy Rich Asians', u'Creed II', u'Deadpool 2', u'Death Wish',\n",
       "        u'Death of a Nation', u'Den of Thieves', u'Destination Wedding',\n",
       "        u'Dogman', u\"Don't Worry, He Won't Get Far on Foot\", u\"Dumplin'\",\n",
       "        u'Early Man', u'Eighth Grade', u'Every Day', u'Everybody Knows',\n",
       "        u'Extinction', u'Fahrenheit 11/9',\n",
       "        u'Fantastic Beasts: The Crimes of Grindelwald',\n",
       "        u'Father of the Year', u'Fifty Shades Freed', u'First Man',\n",
       "        u'Forever My Girl', u'Game Night', u'Game Over, Man!',\n",
       "        u'Goosebumps 2: Haunted Halloween', u'Gotti', u'Green Book',\n",
       "        u'Gringo', u'Halloween', u'Hereditary', u'Hold the Dark',\n",
       "        u'Hotel Artemis', u'Hotel Transylvania 3: Summer Vacation',\n",
       "        u'How It Ends', u'Hunter Killer', u'I Can Only Imagine',\n",
       "        u'I Feel Pretty', u'Ibiza', u'In Darkness',\n",
       "        u'Incident in a Ghostland', u'Incredibles 2',\n",
       "        u'Insidious: The Last Key', u'Instant Family', u'Isle of Dogs',\n",
       "        u'Johnny English Strikes Again', u'Juliet, Naked',\n",
       "        u'Jurassic World: Fallen Kingdom', u'Kin', u'Leave No Trace',\n",
       "        u'Life of the Party', u'Like Father', u'Love, Simon',\n",
       "        u'Mamma Mia! Here We Go Again', u'Mandy', u'Mary Poppins Returns',\n",
       "        u'Maze Runner: The Death Cure', u'Mid90s', u'Midnight Sun',\n",
       "        u'Mile 22', u'Mission: Impossible - Fallout', u'Mortal Engines',\n",
       "        u'Mowgli: Legend of the Jungle', u'Mute', u'Night School',\n",
       "        u'Occupation', u\"Ocean's Eight\", u'Operation Finale',\n",
       "        u'Outlaw King', u'Overboard', u'Overlord',\n",
       "        u'Pacific Rim: Uprising', u'Padmaavat', u'Peppermint',\n",
       "        u'Peter Rabbit', u'Private Life', u'Proud Mary',\n",
       "        u'Ralph Breaks the Internet', u'Rampage', u'Ready Player One',\n",
       "        u'Red Sparrow', u'Robin Hood', u'Roma', u'Searching', u'Set It Up',\n",
       "        u'Sherlock Gnomes', u'Shoplifters', u'Siberia',\n",
       "        u'Sicario: Day of the Soldado', u'Sierra Burgess Is a Loser',\n",
       "        u'Skyscraper', u'Slender Man', u'Smallfoot',\n",
       "        u'Solo: A Star Wars Story', u'Sorry to Bother You',\n",
       "        u'Spider-Man: Into the Spider-Verse', u'Spinning Man',\n",
       "        u'Summer of 84', u'Super Troopers 2', u'Suspiria', u'Tag', u'Tau',\n",
       "        u'Teen Titans Go! To the Movies', u'Terminal',\n",
       "        u'The 15:17 to Paris', u'The Ballad of Buster Scruggs',\n",
       "        u'The Christmas Chronicles', u'The Cloverfield Paradox',\n",
       "        u'The Commuter', u'The Darkest Minds', u'The Equalizer 2',\n",
       "        u'The Favourite', u'The First Purge',\n",
       "        u\"The Girl in the Spider's Web\", u'The Grinch',\n",
       "        u'The Guernsey Literary and Potato Peel Pie Society',\n",
       "        u'The Guilty', u'The Happytime Murders', u'The Hate U Give',\n",
       "        u'The House That Jack Built',\n",
       "        u'The House with a Clock in Its Walls', u'The Hurricane Heist',\n",
       "        u'The Meg', u'The Miseducation of Cameron Post', u'The Mule',\n",
       "        u'The Night Comes for Us', u'The Nun',\n",
       "        u'The Nutcracker and the Four Realms', u'The Old Man & the Gun',\n",
       "        u'The Outsider', u'The Predator', u'The Sisters Brothers',\n",
       "        u'The Spy Who Dumped Me', u'The Strangers: Prey at Night',\n",
       "        u'The Tale', u'The Titan', u'The Week Of', u'The Wild Pear Tree',\n",
       "        u'Three Identical Strangers', u\"To All the Boys I've Loved Before\",\n",
       "        u'Tomb Raider', u'Traffik', u'Truth or Dare', u'Tully',\n",
       "        u'Uncle Drew', u'Under the Silver Lake', u'Unfriended: Dark Web',\n",
       "        u'Unsane', u'Ut\\xf8ya: July 22', u'Venom', u'Vice',\n",
       "        u'When We First Met', u'White Boy Rick', u'Widows', u'Wildling',\n",
       "        u'Winchester', u\"Won't You Be My Neighbor?\",\n",
       "        u'\\u0410\\u043a\\u0432\\u0430\\u043c\\u0435\\u043d',\n",
       "        u'\\u0410\\u043f\\u0433\\u0440\\u0435\\u0439\\u0434'], dtype='<U50'),\n",
       " array([ 76,  75,  80, 100,   7,  63, 126,  55,  31,  74,  12,  87,  17,\n",
       "         85,  28,  53, 178,  38, 107,  53,  39,  73,  52, 104,  39,  52,\n",
       "        135,  57,  76, 111,  42,  19,  10, 103,  16,  17,  22,  81,  24,\n",
       "         38,  45,  18,  66, 259,  70,  75,  68, 111,  12,  18,  94,  76,\n",
       "         26,  41,  36,  28,  30,  79, 148,  52,  68, 158,  60,  65,  63,\n",
       "         71, 140, 100,  49,  64,  31,  38,  49,  48,  45,  69,  59, 107,\n",
       "         37,  31,  22,  24,  35,  88,  49,  85,  57, 104,  46,  38,  95,\n",
       "         38, 105, 242,  20,  96,  41,  36,  35,  67,  95,  99,  38,  58,\n",
       "         76,  52, 237,  58,  94,  53,  43,  82,  48,  69,  61,  50,  38,\n",
       "         81, 119, 159,  79,  37,  21,  46,  57,  29,  37,  38, 106,  42,\n",
       "         64,  34,  23,  92,  85,  74,  29,  20,  79,  41,  73,  14,  29,\n",
       "         16, 125,  71,  56,  20,  78, 140, 112,  59, 101,  46,  42,  55,\n",
       "         25,  55, 154,  40,  35,  30,  39,  64,  93,  16,  51, 101, 124,\n",
       "        108,  64,  38,  56,  13,  66,  26, 118,  15,  12,  25,  61,  51,\n",
       "         37,  34,  87,  79,  19,  34,  19, 122, 217,  30, 213, 130,  24,\n",
       "         57,  51,  85,  34], dtype=int64))"
      ]
     },
     "execution_count": 85,
     "metadata": {},
     "output_type": "execute_result"
    }
   ],
   "source": [
    "films, k_films"
   ]
  },
  {
   "cell_type": "markdown",
   "metadata": {},
   "source": [
    "#### 4. The Nearest Neighbour Degree"
   ]
  },
  {
   "cell_type": "code",
   "execution_count": 89,
   "metadata": {},
   "outputs": [
    {
     "data": {
      "text/plain": [
       "array([1.5       , 1.01333333, 1.175     , 1.17      , 1.42857143,\n",
       "       1.14285714, 1.19047619, 1.16363636, 1.32258065, 1.60810811,\n",
       "       1.        , 1.08045977, 1.17647059, 1.45882353, 1.96428571,\n",
       "       1.11320755, 2.08426966, 1.23684211, 2.29906542, 1.20754717,\n",
       "       1.66666667, 1.49315068, 1.25      , 1.15384615, 1.53846154,\n",
       "       1.26923077, 2.17037037, 1.40350877, 2.40789474, 1.44144144,\n",
       "       1.0952381 , 1.31578947, 1.4       , 1.61165049, 1.3125    ,\n",
       "       1.05882353, 1.09090909, 1.60493827, 1.04166667, 1.        ,\n",
       "       1.37777778, 1.05555556, 1.10606061, 1.11969112, 1.51428571,\n",
       "       1.21333333, 1.        , 1.81081081, 1.08333333, 1.        ,\n",
       "       1.29787234, 2.38157895, 1.15384615, 1.2195122 , 1.19444444,\n",
       "       1.        , 1.23333333, 1.25316456, 1.63513514, 1.51923077,\n",
       "       1.23529412, 1.86708861, 1.58333333, 1.89230769, 1.28571429,\n",
       "       1.71830986, 1.3       , 1.21      , 1.3877551 , 1.25      ,\n",
       "       1.03225806, 1.18421053, 1.65306122, 1.5625    , 1.35555556,\n",
       "       1.53623188, 1.11864407, 1.39252336, 1.13513514, 1.4516129 ,\n",
       "       1.04545455, 1.25      , 1.4       , 1.90909091, 1.14285714,\n",
       "       1.38823529, 1.36842105, 1.64423077, 1.23913043, 1.18421053,\n",
       "       1.85263158, 1.13157895, 1.65714286, 1.12809917, 1.2       ,\n",
       "       1.73958333, 1.24390244, 1.19444444, 1.17142857, 1.64179104,\n",
       "       1.77894737, 1.06060606, 1.47368421, 1.22413793, 2.42105263,\n",
       "       1.15384615, 1.17721519, 1.0862069 , 1.13829787, 1.1509434 ,\n",
       "       1.39534884, 1.26829268, 1.        , 1.27536232, 1.63934426,\n",
       "       1.16      , 1.68421053, 1.16049383, 2.43697479, 1.39622642,\n",
       "       1.60759494, 1.24324324, 1.        , 1.15217391, 1.26315789,\n",
       "       1.34482759, 1.        , 1.18421053, 1.25471698, 1.21428571,\n",
       "       1.234375  , 1.41176471, 1.47826087, 1.5       , 1.64705882,\n",
       "       1.44594595, 1.31034483, 1.15      , 1.37974684, 1.09756098,\n",
       "       2.43835616, 1.35714286, 1.55172414, 1.375     , 2.144     ,\n",
       "       1.25352113, 1.30357143, 1.7       , 1.56410256, 1.79285714,\n",
       "       1.47321429, 1.25423729, 1.22772277, 1.13043478, 1.21428571,\n",
       "       1.4       , 1.        , 1.30909091, 1.94805195, 1.25      ,\n",
       "       2.08571429, 1.16666667, 1.07692308, 1.09375   , 1.77419355,\n",
       "       1.0625    , 1.25490196, 1.42574257, 1.4516129 , 1.01851852,\n",
       "       1.375     , 1.21052632, 1.42857143, 1.23076923, 1.24242424,\n",
       "       1.19230769, 1.11016949, 1.        , 1.        , 1.2       ,\n",
       "       1.40983607, 1.39215686, 1.08108108, 1.14705882, 2.05747126,\n",
       "       1.10126582, 1.36842105, 1.17647059, 1.        , 2.20491803,\n",
       "       1.26728111, 1.23333333, 1.32394366, 1.47692308, 1.125     ,\n",
       "       1.35087719, 1.09803922, 1.30588235, 1.29411765])"
      ]
     },
     "execution_count": 89,
     "metadata": {},
     "output_type": "execute_result"
    }
   ],
   "source": [
    "\n",
    "k_nn_f = np.dot(adj_films,  k_actors)\n",
    "k_nn_f = 1.*k_nn_f/k_films\n",
    "k_nn_f\n",
    "k_nn_a = np.dot(adj_films.T,  k_films)\n",
    "k_nn_a = 1.*k_nn_a/k_actors\n",
    "  "
   ]
  },
  {
   "cell_type": "markdown",
   "metadata": {},
   "source": [
    "### Other interesting function of numpy"
   ]
  },
  {
   "cell_type": "markdown",
   "metadata": {},
   "source": [
    "np.diag()"
   ]
  },
  {
   "cell_type": "code",
   "execution_count": null,
   "metadata": {},
   "outputs": [],
   "source": [
    "np.diag(adjacency_matrix)"
   ]
  },
  {
   "cell_type": "markdown",
   "metadata": {},
   "source": [
    "extracts the diagonal from a square matrix or"
   ]
  },
  {
   "cell_type": "code",
   "execution_count": null,
   "metadata": {},
   "outputs": [],
   "source": [
    "np.diag([1,2,3,4])"
   ]
  },
  {
   "cell_type": "markdown",
   "metadata": {},
   "source": [
    "builds a diagonal matrix from the array in the argument."
   ]
  },
  {
   "cell_type": "markdown",
   "metadata": {},
   "source": [
    "np.vstack()"
   ]
  },
  {
   "cell_type": "code",
   "execution_count": null,
   "metadata": {},
   "outputs": [],
   "source": [
    "np.vstack((np.arange(4), np.arange(4,8)))"
   ]
  },
  {
   "cell_type": "markdown",
   "metadata": {},
   "source": [
    "it stacks the two arrays one over the other."
   ]
  },
  {
   "cell_type": "markdown",
   "metadata": {},
   "source": [
    "np.isin()"
   ]
  },
  {
   "cell_type": "code",
   "execution_count": null,
   "metadata": {},
   "outputs": [],
   "source": [
    "cacca=np.array([0,1,3,4,5,42])"
   ]
  },
  {
   "cell_type": "code",
   "execution_count": null,
   "metadata": {},
   "outputs": [],
   "source": [
    "np.isin(cacca, np.array([0,42,3]))"
   ]
  },
  {
   "cell_type": "code",
   "execution_count": null,
   "metadata": {},
   "outputs": [],
   "source": [
    "cacca[np.isin(cacca, np.array([0,42,3]))]"
   ]
  },
  {
   "cell_type": "code",
   "execution_count": null,
   "metadata": {},
   "outputs": [],
   "source": [
    "np.isin(np.array([0,42,3]),cacca)"
   ]
  },
  {
   "cell_type": "markdown",
   "metadata": {},
   "source": [
    "### Exercise: project the network on the two layers and get the adjacency matrix (i.e. the binarized version of the weighted matrix)"
   ]
  },
  {
   "cell_type": "code",
   "execution_count": null,
   "metadata": {},
   "outputs": [],
   "source": []
  },
  {
   "cell_type": "markdown",
   "metadata": {},
   "source": [
    "### Exercise: calculate the clustering per node and its average value on the film projection\n",
    "The clustering is the number of observed triangles over the possible realisation."
   ]
  },
  {
   "cell_type": "code",
   "execution_count": null,
   "metadata": {},
   "outputs": [],
   "source": []
  }
 ],
 "metadata": {
  "kernelspec": {
   "display_name": "Python 2",
   "language": "python",
   "name": "python2"
  },
  "language_info": {
   "codemirror_mode": {
    "name": "ipython",
    "version": 2
   },
   "file_extension": ".py",
   "mimetype": "text/x-python",
   "name": "python",
   "nbconvert_exporter": "python",
   "pygments_lexer": "ipython2",
   "version": "2.7.15"
  },
  "latex_envs": {
   "LaTeX_envs_menu_present": true,
   "autoclose": false,
   "autocomplete": true,
   "bibliofile": "biblio.bib",
   "cite_by": "apalike",
   "current_citInitial": 1,
   "eqLabelWithNumbers": true,
   "eqNumInitial": 1,
   "hotkeys": {
    "equation": "Ctrl-E",
    "itemize": "Ctrl-I"
   },
   "labels_anchors": false,
   "latex_user_defs": false,
   "report_style_numbering": false,
   "user_envs_cfg": false
  },
  "toc": {
   "base_numbering": 1,
   "nav_menu": {},
   "number_sections": false,
   "sideBar": true,
   "skip_h1_title": true,
   "title_cell": "Table of Contents",
   "title_sidebar": "Contents",
   "toc_cell": false,
   "toc_position": {},
   "toc_section_display": true,
   "toc_window_display": true
  },
  "varInspector": {
   "cols": {
    "lenName": 16,
    "lenType": 16,
    "lenVar": 40
   },
   "kernels_config": {
    "python": {
     "delete_cmd_postfix": "",
     "delete_cmd_prefix": "del ",
     "library": "var_list.py",
     "varRefreshCmd": "print(var_dic_list())"
    },
    "r": {
     "delete_cmd_postfix": ") ",
     "delete_cmd_prefix": "rm(",
     "library": "var_list.r",
     "varRefreshCmd": "cat(var_dic_list()) "
    }
   },
   "types_to_exclude": [
    "module",
    "function",
    "builtin_function_or_method",
    "instance",
    "_Feature"
   ],
   "window_display": false
  }
 },
 "nbformat": 4,
 "nbformat_minor": 2
}
